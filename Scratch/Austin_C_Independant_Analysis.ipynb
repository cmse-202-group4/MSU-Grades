{
 "cells": [
  {
   "cell_type": "markdown",
   "metadata": {},
   "source": [
    "# Grade Analysis"
   ]
  },
  {
   "cell_type": "code",
   "execution_count": null,
   "metadata": {
    "collapsed": true
   },
   "outputs": [],
   "source": [
    "import numpy as np\n",
    "import matplotlib.pyplot as plt\n",
    "import seaborn as sns\n",
    "sns.set()\n",
    "import pandas as pd"
   ]
  },
  {
   "cell_type": "code",
   "execution_count": null,
   "metadata": {
    "collapsed": true
   },
   "outputs": [],
   "source": [
    "all_grades = pd.read_excel(\"master.xlsx\")"
   ]
  },
  {
   "cell_type": "code",
   "execution_count": null,
   "metadata": {
    "collapsed": true
   },
   "outputs": [],
   "source": [
    "rough_grades = all_grades.dropna()"
   ]
  },
  {
   "cell_type": "code",
   "execution_count": null,
   "metadata": {
    "collapsed": true
   },
   "outputs": [],
   "source": [
    "columns = [\"term_code\",\"subject_code\",\"course_code\",\"course_title\",\"total_grades\",\n",
    "           4,3.5,3,2.5,2,1.5,1,0]\n",
    "grades = rough_grades[columns]"
   ]
  },
  {
   "cell_type": "code",
   "execution_count": null,
   "metadata": {},
   "outputs": [],
   "source": [
    "grades[\"subject_code\"].describe()"
   ]
  },
  {
   "cell_type": "code",
   "execution_count": null,
   "metadata": {
    "collapsed": true
   },
   "outputs": [],
   "source": [
    "subject_grades = grades.groupby('subject_code').sum().sort_values(by ='total_grades', ascending = False)"
   ]
  },
  {
   "cell_type": "code",
   "execution_count": null,
   "metadata": {
    "collapsed": true,
    "scrolled": false
   },
   "outputs": [],
   "source": [
    "subject_grades[\"w_4\"] = subject_grades[4].apply(lambda x: x*4)\n",
    "subject_grades[\"w_3_5\"] = subject_grades[3.5].apply(lambda x: x*3.5)\n",
    "subject_grades[\"w_3\"] = subject_grades[3].apply(lambda x: x*3)\n",
    "subject_grades[\"w_2_5\"] = subject_grades[2.5].apply(lambda x: x*2.5)\n",
    "subject_grades[\"w_2\"] = subject_grades[2].apply(lambda x: x*2)\n",
    "subject_grades[\"w_1_5\"] = subject_grades[1.5].apply(lambda x: x*1.5)\n",
    "subject_grades[\"w_1\"] = subject_grades[1].apply(lambda x: x*1)\n",
    "subject_grades[\"w_0\"] = subject_grades[0].apply(lambda x: x*0)"
   ]
  },
  {
   "cell_type": "code",
   "execution_count": null,
   "metadata": {},
   "outputs": [],
   "source": [
    "weights = [\"w_4\",\"w_3_5\",\"w_3\",\"w_2_5\",\"w_2\",\"w_1_5\",\"w_1\",\"w_0\"]\n",
    "subject_grades[\"avg_grade\"] = subject_grades[weights].sum(axis=1)/subject_grades[\"total_grades\"]\n",
    "subject_grades.sort_values(by=\"avg_grade\",ascending = False)"
   ]
  },
  {
   "cell_type": "code",
   "execution_count": null,
   "metadata": {
    "collapsed": true
   },
   "outputs": [],
   "source": [
    "PHY = grades[grades[\"subject_code\"] == \"PHY\"]"
   ]
  },
  {
   "cell_type": "code",
   "execution_count": null,
   "metadata": {},
   "outputs": [],
   "source": [
    "gpa_grades = [\"total_grades\",4,3.5,3,3,2.5,2,1.5,1,0]\n",
    "Num_PHY = PHY[gpa_grades]\n",
    "Num_PHY[\"80th\"] = Num_PHY[\"total_grades\"].apply(lambda x: x*0.8)\n",
    "Num_PHY"
   ]
  },
  {
   "cell_type": "code",
   "execution_count": null,
   "metadata": {
    "collapsed": true
   },
   "outputs": [],
   "source": []
  }
 ],
 "metadata": {
  "kernelspec": {
   "display_name": "Python [default]",
   "language": "python",
   "name": "python3"
  },
  "language_info": {
   "codemirror_mode": {
    "name": "ipython",
    "version": 3
   },
   "file_extension": ".py",
   "mimetype": "text/x-python",
   "name": "python",
   "nbconvert_exporter": "python",
   "pygments_lexer": "ipython3",
   "version": "3.5.6"
  }
 },
 "nbformat": 4,
 "nbformat_minor": 2
}
